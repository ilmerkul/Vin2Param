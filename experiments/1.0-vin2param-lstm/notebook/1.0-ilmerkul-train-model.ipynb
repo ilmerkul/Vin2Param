{
 "cells": [
  {
   "cell_type": "code",
   "execution_count": 1,
   "metadata": {},
   "outputs": [],
   "source": [
    "import os\n",
    "import sys"
   ]
  },
  {
   "cell_type": "code",
   "execution_count": 2,
   "metadata": {},
   "outputs": [],
   "source": [
    "nb_dir = os.path.split(os.getcwd())[0]\n",
    "if nb_dir not in sys.path:\n",
    "    sys.path.append(nb_dir)"
   ]
  },
  {
   "cell_type": "code",
   "execution_count": 3,
   "metadata": {},
   "outputs": [],
   "source": [
    "import pandas as pd\n",
    "from src.data.tokenizer import Vin2ParamTokenizer\n",
    "from src.data.dataset import Vin2ParamDataset\n",
    "from src.train.Vin2ParamTrainer import Vin2ParamTrainer\n",
    "from src.model import Vin2ParamGRU\n",
    "\n",
    "from torch.utils.data import DataLoader\n",
    "from torch.nn.utils.rnn import pad_sequence\n",
    "import torch\n",
    "\n",
    "from sklearn.model_selection import train_test_split"
   ]
  },
  {
   "cell_type": "code",
   "execution_count": 4,
   "metadata": {},
   "outputs": [],
   "source": [
    "data_train = pd.read_csv(\"../data/vins_train.csv\")"
   ]
  },
  {
   "cell_type": "code",
   "execution_count": 5,
   "metadata": {},
   "outputs": [
    {
     "data": {
      "text/html": [
       "<div>\n",
       "<style scoped>\n",
       "    .dataframe tbody tr th:only-of-type {\n",
       "        vertical-align: middle;\n",
       "    }\n",
       "\n",
       "    .dataframe tbody tr th {\n",
       "        vertical-align: top;\n",
       "    }\n",
       "\n",
       "    .dataframe thead th {\n",
       "        text-align: right;\n",
       "    }\n",
       "</style>\n",
       "<table border=\"1\" class=\"dataframe\">\n",
       "  <thead>\n",
       "    <tr style=\"text-align: right;\">\n",
       "      <th></th>\n",
       "      <th>VIN</th>\n",
       "      <th>CarBrand</th>\n",
       "      <th>CarModel</th>\n",
       "      <th>YearManufactured</th>\n",
       "      <th>EngineType</th>\n",
       "      <th>EngineVolume</th>\n",
       "      <th>Color</th>\n",
       "    </tr>\n",
       "  </thead>\n",
       "  <tbody>\n",
       "    <tr>\n",
       "      <th>0</th>\n",
       "      <td>NVKZTHZ0X18TM05845</td>\n",
       "      <td>ВАЗ (LADA)</td>\n",
       "      <td>2115 Samara</td>\n",
       "      <td>2009</td>\n",
       "      <td>Бензин</td>\n",
       "      <td>1.6</td>\n",
       "      <td>Серый</td>\n",
       "    </tr>\n",
       "    <tr>\n",
       "      <th>1</th>\n",
       "      <td>HNVKZXWFJ22J206195</td>\n",
       "      <td>ВАЗ (LADA)</td>\n",
       "      <td>2112</td>\n",
       "      <td>2003</td>\n",
       "      <td>Бензин</td>\n",
       "      <td>1.6</td>\n",
       "      <td>Чёрный</td>\n",
       "    </tr>\n",
       "    <tr>\n",
       "      <th>2</th>\n",
       "      <td>HYQS2DXM922I900038</td>\n",
       "      <td>ВАЗ (LADA)</td>\n",
       "      <td>21099</td>\n",
       "      <td>2003</td>\n",
       "      <td>Бензин</td>\n",
       "      <td>1.4</td>\n",
       "      <td>Серебряный</td>\n",
       "    </tr>\n",
       "    <tr>\n",
       "      <th>3</th>\n",
       "      <td>HNVKZF1KZ636X08104</td>\n",
       "      <td>ВАЗ (LADA)</td>\n",
       "      <td>2110</td>\n",
       "      <td>1998</td>\n",
       "      <td>Бензин</td>\n",
       "      <td>1.6</td>\n",
       "      <td>Зелёный</td>\n",
       "    </tr>\n",
       "    <tr>\n",
       "      <th>4</th>\n",
       "      <td>EBLI88GR11J203825</td>\n",
       "      <td>Opel</td>\n",
       "      <td>Meriva</td>\n",
       "      <td>2008</td>\n",
       "      <td>Бензин</td>\n",
       "      <td>1.6</td>\n",
       "      <td>Чёрный</td>\n",
       "    </tr>\n",
       "  </tbody>\n",
       "</table>\n",
       "</div>"
      ],
      "text/plain": [
       "                  VIN    CarBrand     CarModel YearManufactured EngineType  \\\n",
       "0  NVKZTHZ0X18TM05845  ВАЗ (LADA)  2115 Samara             2009     Бензин   \n",
       "1  HNVKZXWFJ22J206195  ВАЗ (LADA)         2112             2003     Бензин   \n",
       "2  HYQS2DXM922I900038  ВАЗ (LADA)        21099             2003     Бензин   \n",
       "3  HNVKZF1KZ636X08104  ВАЗ (LADA)         2110             1998     Бензин   \n",
       "4   EBLI88GR11J203825        Opel       Meriva             2008     Бензин   \n",
       "\n",
       "  EngineVolume       Color  \n",
       "0          1.6       Серый  \n",
       "1          1.6      Чёрный  \n",
       "2          1.4  Серебряный  \n",
       "3          1.6     Зелёный  \n",
       "4          1.6      Чёрный  "
      ]
     },
     "execution_count": 5,
     "metadata": {},
     "output_type": "execute_result"
    }
   ],
   "source": [
    "data_train.head()"
   ]
  },
  {
   "cell_type": "code",
   "execution_count": 6,
   "metadata": {},
   "outputs": [],
   "source": [
    "data_train = data_train[[\"VIN\", \"CarBrand\", \"CarModel\", \"Color\"]]"
   ]
  },
  {
   "cell_type": "code",
   "execution_count": 7,
   "metadata": {},
   "outputs": [],
   "source": [
    "data_train.drop_duplicates(inplace=True)"
   ]
  },
  {
   "cell_type": "code",
   "execution_count": 8,
   "metadata": {},
   "outputs": [],
   "source": [
    "sos_token = \"!\"\n",
    "eos_token = \"@\"\n",
    "\n",
    "tokenizer = Vin2ParamTokenizer(sos_token, eos_token)"
   ]
  },
  {
   "cell_type": "code",
   "execution_count": 9,
   "metadata": {},
   "outputs": [],
   "source": [
    "tokenizer.fit_vin(data_train)"
   ]
  },
  {
   "cell_type": "code",
   "execution_count": 10,
   "metadata": {},
   "outputs": [],
   "source": [
    "tokenizer.tokenize_vin(data_train)"
   ]
  },
  {
   "cell_type": "code",
   "execution_count": 11,
   "metadata": {},
   "outputs": [],
   "source": [
    "tokenizer.fit_label(data_train)"
   ]
  },
  {
   "cell_type": "code",
   "execution_count": 12,
   "metadata": {},
   "outputs": [],
   "source": [
    "tokenizer.tokenize_label(data_train)"
   ]
  },
  {
   "cell_type": "code",
   "execution_count": 13,
   "metadata": {},
   "outputs": [],
   "source": [
    "train_data, val_data = train_test_split(data_train, test_size=0.05, shuffle=True, stratify=data_train[\"CarBrand\"])"
   ]
  },
  {
   "cell_type": "code",
   "execution_count": 14,
   "metadata": {},
   "outputs": [],
   "source": [
    "train_dataset = Vin2ParamDataset(train_data[\"VIN\"].values, train_data[[\"CarBrand\", \"CarModel\", \"Color\"]].values)\n",
    "val_dataste = Vin2ParamDataset(val_data[\"VIN\"].values, val_data[[\"CarBrand\", \"CarModel\", \"Color\"]].values)"
   ]
  },
  {
   "cell_type": "code",
   "execution_count": 15,
   "metadata": {},
   "outputs": [],
   "source": [
    "def vin_collate_fn(batch):\n",
    "    batch_vins, batch_labels = list(map(lambda x: x[0], batch)), list(map(lambda x: x[1], batch))\n",
    "    vins = torch.tensor(pad_sequence(batch_vins, batch_first=True, padding_value=0))\n",
    "    lbs = torch.stack(batch_labels, dim=0)\n",
    "    return vins, lbs"
   ]
  },
  {
   "cell_type": "code",
   "execution_count": 16,
   "metadata": {},
   "outputs": [],
   "source": [
    "train_dataloader = DataLoader(train_dataset, batch_size=512, shuffle=True, collate_fn=vin_collate_fn)\n",
    "val_dataloader = DataLoader(val_dataste, batch_size=512, collate_fn=vin_collate_fn)"
   ]
  },
  {
   "cell_type": "code",
   "execution_count": 17,
   "metadata": {},
   "outputs": [],
   "source": [
    "carbrand_n = data_train['CarBrand'].nunique()\n",
    "carmodel_n = data_train['CarModel'].nunique()\n",
    "color_n = data_train['Color'].nunique()"
   ]
  },
  {
   "cell_type": "code",
   "execution_count": 18,
   "metadata": {},
   "outputs": [
    {
     "data": {
      "text/plain": [
       "(4, 142, 16)"
      ]
     },
     "execution_count": 18,
     "metadata": {},
     "output_type": "execute_result"
    }
   ],
   "source": [
    "carbrand_n, carmodel_n, color_n"
   ]
  },
  {
   "cell_type": "code",
   "execution_count": 19,
   "metadata": {},
   "outputs": [],
   "source": [
    "model = Vin2ParamGRU(len(tokenizer.vocab), 50, 0, 200, 0.1, carbrand_n, carmodel_n, color_n)"
   ]
  },
  {
   "cell_type": "code",
   "execution_count": 20,
   "metadata": {},
   "outputs": [],
   "source": [
    "trainer = Vin2ParamTrainer(model, train_dataloader, val_dataloader)"
   ]
  },
  {
   "cell_type": "code",
   "execution_count": null,
   "metadata": {},
   "outputs": [
    {
     "name": "stderr",
     "output_type": "stream",
     "text": [
      "C:\\Users\\pynex\\AppData\\Local\\Temp\\ipykernel_15544\\2211153735.py:3: UserWarning: To copy construct from a tensor, it is recommended to use sourceTensor.clone().detach() or sourceTensor.clone().detach().requires_grad_(True), rather than torch.tensor(sourceTensor).\n",
      "  vins = torch.tensor(pad_sequence(batch_vins, batch_first=True, padding_value=0))\n"
     ]
    }
   ],
   "source": [
    "trainer.train(2)"
   ]
  },
  {
   "cell_type": "code",
   "execution_count": null,
   "metadata": {},
   "outputs": [
    {
     "name": "stderr",
     "output_type": "stream",
     "text": [
      "c:\\Users\\pynex\\AppData\\Local\\Programs\\Python\\Python310\\lib\\site-packages\\torch\\nn\\modules\\rnn.py:83: UserWarning: dropout option adds dropout after all but last recurrent layer, so non-zero dropout expects num_layers greater than 1, but got dropout=0.2 and num_layers=1\n",
      "  warnings.warn(\"dropout option adds dropout after all but last \"\n"
     ]
    }
   ],
   "source": [
    "modelX = Vin2ParamGRU(len(tokenizer.vocab), 60, 0, 350, 0.2, carbrand_n, carmodel_n, color_n)"
   ]
  },
  {
   "cell_type": "code",
   "execution_count": null,
   "metadata": {},
   "outputs": [],
   "source": [
    "trainerX = Vin2ParamTrainer(modelX, train_dataloader, val_dataloader)"
   ]
  },
  {
   "cell_type": "code",
   "execution_count": null,
   "metadata": {},
   "outputs": [
    {
     "name": "stderr",
     "output_type": "stream",
     "text": [
      "C:\\Users\\pynex\\AppData\\Local\\Temp\\ipykernel_10408\\2211153735.py:3: UserWarning: To copy construct from a tensor, it is recommended to use sourceTensor.clone().detach() or sourceTensor.clone().detach().requires_grad_(True), rather than torch.tensor(sourceTensor).\n",
      "  vins = torch.tensor(pad_sequence(batch_vins, batch_first=True, padding_value=0))\n"
     ]
    },
    {
     "name": "stdout",
     "output_type": "stream",
     "text": [
      "epoch: 0 | step: 0 | train_loss: 9.120433807373047 | val_loss: 9.042512893676758 | brand_acc: 0.7901785714285714 | model_acc: 0.015066964285714286 | color_acc: 0.10379464285714286\n",
      "epoch: 0 | step: 50 | train_loss: 6.168956756591797 | val_loss: 6.233157702854702 | brand_acc: 0.7901785714285714 | model_acc: 0.07672991071428571 | color_acc: 0.16183035714285715\n",
      "epoch: 0 | step: 100 | train_loss: 6.0895586013793945 | val_loss: 5.933405944279262 | brand_acc: 0.7901785714285714 | model_acc: 0.13783482142857142 | color_acc: 0.27566964285714285\n",
      "epoch: 0 | step: 150 | train_loss: 4.807186603546143 | val_loss: 4.77488340650286 | brand_acc: 0.7901785714285714 | model_acc: 0.27957589285714285 | color_acc: 0.427734375\n",
      "epoch: 0 | step: 200 | train_loss: 2.7971065044403076 | val_loss: 2.835294553211757 | brand_acc: 0.8663504464285714 | model_acc: 0.6462053571428571 | color_acc: 0.6498325892857143\n",
      "epoch: 0 | step: 250 | train_loss: 1.3907334804534912 | val_loss: 1.4534093652452742 | brand_acc: 0.9268973214285714 | model_acc: 0.8069196428571429 | color_acc: 0.80078125\n",
      "epoch: 0 | step: 300 | train_loss: 0.9132766723632812 | val_loss: 0.810851684638432 | brand_acc: 0.9380580357142857 | model_acc: 0.8669084821428571 | color_acc: 0.8666294642857143\n",
      "epoch: 0 | step: 350 | train_loss: 0.7026392817497253 | val_loss: 0.5478298153196063 | brand_acc: 0.9386160714285714 | model_acc: 0.8844866071428571 | color_acc: 0.8973214285714286\n",
      "epoch: 0 | step: 400 | train_loss: 0.48579856753349304 | val_loss: 0.518977769783565 | brand_acc: 0.9324776785714286 | model_acc: 0.8928571428571429 | color_acc: 0.9084821428571429\n",
      "epoch: 0 | step: 450 | train_loss: 0.2875327467918396 | val_loss: 0.36838365878377644 | brand_acc: 0.9388950892857143 | model_acc: 0.90234375 | color_acc: 0.9126674107142857\n",
      "epoch: 0 | step: 500 | train_loss: 0.23472058773040771 | val_loss: 0.32519655568259104 | brand_acc: 0.939453125 | model_acc: 0.9054129464285714 | color_acc: 0.916015625\n",
      "epoch: 0 | step: 550 | train_loss: 0.3378683924674988 | val_loss: 0.29929059743881226 | brand_acc: 0.939453125 | model_acc: 0.9068080357142857 | color_acc: 0.9162946428571429\n",
      "epoch: 0 | step: 600 | train_loss: 0.2977495491504669 | val_loss: 0.3071488652910505 | brand_acc: 0.939453125 | model_acc: 0.9059709821428571 | color_acc: 0.9176897321428571\n",
      "epoch: 0 | step: 650 | train_loss: 0.23560699820518494 | val_loss: 0.280762825693403 | brand_acc: 0.939453125 | model_acc: 0.9090401785714286 | color_acc: 0.9185267857142857\n",
      "epoch: 1 | step: 0 | train_loss: 0.2988034784793854 | val_loss: 0.276584084544863 | brand_acc: 0.9397321428571429 | model_acc: 0.9104352678571429 | color_acc: 0.9190848214285714\n",
      "epoch: 1 | step: 50 | train_loss: 0.24137873947620392 | val_loss: 0.2629319259098598 | brand_acc: 0.9397321428571429 | model_acc: 0.9112723214285714 | color_acc: 0.91796875\n",
      "epoch: 1 | step: 100 | train_loss: 0.22529956698417664 | val_loss: 0.2675703763961792 | brand_acc: 0.9386160714285714 | model_acc: 0.9123883928571429 | color_acc: 0.9146205357142857\n",
      "epoch: 1 | step: 150 | train_loss: 0.19662803411483765 | val_loss: 0.25551240359033855 | brand_acc: 0.9400111607142857 | model_acc: 0.9115513392857143 | color_acc: 0.9188058035714286\n",
      "epoch: 1 | step: 200 | train_loss: 0.18358919024467468 | val_loss: 0.2509640561682837 | brand_acc: 0.9397321428571429 | model_acc: 0.9129464285714286 | color_acc: 0.9196428571428571\n",
      "epoch: 1 | step: 250 | train_loss: 0.1691797524690628 | val_loss: 0.24149047902652196 | brand_acc: 0.939453125 | model_acc: 0.9148995535714286 | color_acc: 0.919921875\n",
      "epoch: 1 | step: 300 | train_loss: 0.18252353370189667 | val_loss: 0.28531791269779205 | brand_acc: 0.9391741071428571 | model_acc: 0.9132254464285714 | color_acc: 0.9165736607142857\n",
      "epoch: 1 | step: 350 | train_loss: 0.15885095298290253 | val_loss: 0.2505328357219696 | brand_acc: 0.9397321428571429 | model_acc: 0.9137834821428571 | color_acc: 0.9165736607142857\n",
      "epoch: 1 | step: 400 | train_loss: 0.22657151520252228 | val_loss: 0.23869564916406358 | brand_acc: 0.9397321428571429 | model_acc: 0.9157366071428571 | color_acc: 0.9182477678571429\n",
      "epoch: 1 | step: 450 | train_loss: 0.18024462461471558 | val_loss: 0.2399247054542814 | brand_acc: 0.9397321428571429 | model_acc: 0.9146205357142857 | color_acc: 0.919921875\n",
      "epoch: 1 | step: 500 | train_loss: 0.16185247898101807 | val_loss: 0.23215719205992563 | brand_acc: 0.9400111607142857 | model_acc: 0.916015625 | color_acc: 0.9174107142857143\n",
      "epoch: 1 | step: 550 | train_loss: 0.22801566123962402 | val_loss: 0.23014421335288457 | brand_acc: 0.9400111607142857 | model_acc: 0.916015625 | color_acc: 0.9193638392857143\n",
      "epoch: 1 | step: 600 | train_loss: 0.22432872653007507 | val_loss: 0.23556498544556753 | brand_acc: 0.9397321428571429 | model_acc: 0.9157366071428571 | color_acc: 0.9196428571428571\n",
      "epoch: 1 | step: 650 | train_loss: 0.17711710929870605 | val_loss: 0.2302677482366562 | brand_acc: 0.9397321428571429 | model_acc: 0.9143415178571429 | color_acc: 0.9213169642857143\n"
     ]
    }
   ],
   "source": [
    "trainerX.train(2)"
   ]
  },
  {
   "cell_type": "code",
   "execution_count": null,
   "metadata": {},
   "outputs": [
    {
     "name": "stderr",
     "output_type": "stream",
     "text": [
      "C:\\Users\\pynex\\AppData\\Local\\Temp\\ipykernel_10408\\2211153735.py:3: UserWarning: To copy construct from a tensor, it is recommended to use sourceTensor.clone().detach() or sourceTensor.clone().detach().requires_grad_(True), rather than torch.tensor(sourceTensor).\n",
      "  vins = torch.tensor(pad_sequence(batch_vins, batch_first=True, padding_value=0))\n"
     ]
    },
    {
     "name": "stdout",
     "output_type": "stream",
     "text": [
      "0.9400111607142857 0.9162946428571429 0.9213169642857143\n"
     ]
    }
   ],
   "source": [
    "model.eval()\n",
    "modelX.eval()\n",
    "brand_acc = 0\n",
    "model_acc = 0\n",
    "color_acc = 0\n",
    "for inp_val, label_val in val_dataloader:\n",
    "    with torch.no_grad():\n",
    "        out = model(inp_val)\n",
    "        outX = modelX(inp_val)\n",
    "    out = (out[0] + outX[0]) / 2.0, (out[1] + outX[1]) / 2.0, (out[2] + outX[2]) / 2.0\n",
    "\n",
    "    brand_out = torch.argmax(out[0], dim=-1)\n",
    "    model_out = torch.argmax(out[1], dim=-1)\n",
    "    color_out = torch.argmax(out[2], dim=-1)\n",
    "\n",
    "    brand_acc += torch.sum(brand_out == label_val[:, 0]).item()\n",
    "    model_acc += torch.sum(model_out == label_val[:, 1]).item()\n",
    "    color_acc += torch.sum(color_out == label_val[:, 2]).item()\n",
    "\n",
    "val_size = len(val_dataloader) * 512\n",
    "brand_acc /= val_size\n",
    "model_acc /= val_size\n",
    "color_acc /= val_size\n",
    "print(brand_acc, model_acc, color_acc)"
   ]
  },
  {
   "cell_type": "code",
   "execution_count": null,
   "metadata": {},
   "outputs": [],
   "source": []
  }
 ],
 "metadata": {
  "kernelspec": {
   "display_name": "Python 3",
   "language": "python",
   "name": "python3"
  },
  "language_info": {
   "codemirror_mode": {
    "name": "ipython",
    "version": 3
   },
   "file_extension": ".py",
   "mimetype": "text/x-python",
   "name": "python",
   "nbconvert_exporter": "python",
   "pygments_lexer": "ipython3",
   "version": "3.10.1"
  }
 },
 "nbformat": 4,
 "nbformat_minor": 2
}
