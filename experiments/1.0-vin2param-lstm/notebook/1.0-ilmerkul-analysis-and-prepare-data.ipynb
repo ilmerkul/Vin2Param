{
 "cells": [
  {
   "cell_type": "code",
   "execution_count": 1,
   "metadata": {},
   "outputs": [],
   "source": [
    "import pandas as pd"
   ]
  },
  {
   "cell_type": "code",
   "execution_count": 2,
   "metadata": {},
   "outputs": [],
   "source": [
    "data_train = pd.read_csv(\"../data/vins_train.csv\")"
   ]
  },
  {
   "cell_type": "code",
   "execution_count": 3,
   "metadata": {},
   "outputs": [
    {
     "data": {
      "text/html": [
       "<div>\n",
       "<style scoped>\n",
       "    .dataframe tbody tr th:only-of-type {\n",
       "        vertical-align: middle;\n",
       "    }\n",
       "\n",
       "    .dataframe tbody tr th {\n",
       "        vertical-align: top;\n",
       "    }\n",
       "\n",
       "    .dataframe thead th {\n",
       "        text-align: right;\n",
       "    }\n",
       "</style>\n",
       "<table border=\"1\" class=\"dataframe\">\n",
       "  <thead>\n",
       "    <tr style=\"text-align: right;\">\n",
       "      <th></th>\n",
       "      <th>VIN</th>\n",
       "      <th>CarBrand</th>\n",
       "      <th>CarModel</th>\n",
       "      <th>YearManufactured</th>\n",
       "      <th>EngineType</th>\n",
       "      <th>EngineVolume</th>\n",
       "      <th>Color</th>\n",
       "    </tr>\n",
       "  </thead>\n",
       "  <tbody>\n",
       "    <tr>\n",
       "      <th>0</th>\n",
       "      <td>NVKZTHZ0X18TM05845</td>\n",
       "      <td>ВАЗ (LADA)</td>\n",
       "      <td>2115 Samara</td>\n",
       "      <td>2009</td>\n",
       "      <td>Бензин</td>\n",
       "      <td>1.6</td>\n",
       "      <td>Серый</td>\n",
       "    </tr>\n",
       "    <tr>\n",
       "      <th>1</th>\n",
       "      <td>HNVKZXWFJ22J206195</td>\n",
       "      <td>ВАЗ (LADA)</td>\n",
       "      <td>2112</td>\n",
       "      <td>2003</td>\n",
       "      <td>Бензин</td>\n",
       "      <td>1.6</td>\n",
       "      <td>Чёрный</td>\n",
       "    </tr>\n",
       "    <tr>\n",
       "      <th>2</th>\n",
       "      <td>HYQS2DXM922I900038</td>\n",
       "      <td>ВАЗ (LADA)</td>\n",
       "      <td>21099</td>\n",
       "      <td>2003</td>\n",
       "      <td>Бензин</td>\n",
       "      <td>1.4</td>\n",
       "      <td>Серебряный</td>\n",
       "    </tr>\n",
       "    <tr>\n",
       "      <th>3</th>\n",
       "      <td>HNVKZF1KZ636X08104</td>\n",
       "      <td>ВАЗ (LADA)</td>\n",
       "      <td>2110</td>\n",
       "      <td>1998</td>\n",
       "      <td>Бензин</td>\n",
       "      <td>1.6</td>\n",
       "      <td>Зелёный</td>\n",
       "    </tr>\n",
       "    <tr>\n",
       "      <th>4</th>\n",
       "      <td>EBLI88GR11J203825</td>\n",
       "      <td>Opel</td>\n",
       "      <td>Meriva</td>\n",
       "      <td>2008</td>\n",
       "      <td>Бензин</td>\n",
       "      <td>1.6</td>\n",
       "      <td>Чёрный</td>\n",
       "    </tr>\n",
       "  </tbody>\n",
       "</table>\n",
       "</div>"
      ],
      "text/plain": [
       "                  VIN    CarBrand     CarModel YearManufactured EngineType  \\\n",
       "0  NVKZTHZ0X18TM05845  ВАЗ (LADA)  2115 Samara             2009     Бензин   \n",
       "1  HNVKZXWFJ22J206195  ВАЗ (LADA)         2112             2003     Бензин   \n",
       "2  HYQS2DXM922I900038  ВАЗ (LADA)        21099             2003     Бензин   \n",
       "3  HNVKZF1KZ636X08104  ВАЗ (LADA)         2110             1998     Бензин   \n",
       "4   EBLI88GR11J203825        Opel       Meriva             2008     Бензин   \n",
       "\n",
       "  EngineVolume       Color  \n",
       "0          1.6       Серый  \n",
       "1          1.6      Чёрный  \n",
       "2          1.4  Серебряный  \n",
       "3          1.6     Зелёный  \n",
       "4          1.6      Чёрный  "
      ]
     },
     "execution_count": 3,
     "metadata": {},
     "output_type": "execute_result"
    }
   ],
   "source": [
    "data_train.head()"
   ]
  },
  {
   "cell_type": "code",
   "execution_count": null,
   "metadata": {},
   "outputs": [
    {
     "data": {
      "text/plain": [
       "(338921, 7)"
      ]
     },
     "execution_count": 27,
     "metadata": {},
     "output_type": "execute_result"
    }
   ],
   "source": [
    "data_train.shape"
   ]
  },
  {
   "cell_type": "code",
   "execution_count": 33,
   "metadata": {},
   "outputs": [
    {
     "data": {
      "text/plain": [
       "(338857, 7)"
      ]
     },
     "execution_count": 33,
     "metadata": {},
     "output_type": "execute_result"
    }
   ],
   "source": [
    "data_train.drop_duplicates().shape"
   ]
  },
  {
   "cell_type": "code",
   "execution_count": 32,
   "metadata": {},
   "outputs": [
    {
     "data": {
      "text/plain": [
       "(338791, 1)"
      ]
     },
     "execution_count": 32,
     "metadata": {},
     "output_type": "execute_result"
    }
   ],
   "source": [
    "data_train[[\"VIN\"]].drop_duplicates().shape"
   ]
  },
  {
   "cell_type": "code",
   "execution_count": 31,
   "metadata": {},
   "outputs": [
    {
     "data": {
      "text/plain": [
       "CarBrand\n",
       "ВАЗ (LADA)    0.834755\n",
       "Opel          0.076915\n",
       "Mazda         0.048129\n",
       "Skoda         0.040201\n",
       "Name: proportion, dtype: float64"
      ]
     },
     "execution_count": 31,
     "metadata": {},
     "output_type": "execute_result"
    }
   ],
   "source": [
    "data_train['CarBrand'].value_counts(normalize=True)"
   ]
  },
  {
   "cell_type": "code",
   "execution_count": null,
   "metadata": {},
   "outputs": [
    {
     "data": {
      "text/plain": [
       "CarModel\n",
       "2107               0.086587\n",
       "2114 Samara        0.083468\n",
       "2110               0.081591\n",
       "Priora             0.081048\n",
       "2109               0.064239\n",
       "                     ...   \n",
       "2121 (4x4) Фора    0.000003\n",
       "Bongo Friendee     0.000003\n",
       "105                0.000003\n",
       "Kapitan            0.000003\n",
       "Monza              0.000003\n",
       "Name: proportion, Length: 142, dtype: float64"
      ]
     },
     "execution_count": 5,
     "metadata": {},
     "output_type": "execute_result"
    }
   ],
   "source": [
    "data_train['CarModel'].value_counts(normalize=True)"
   ]
  },
  {
   "cell_type": "code",
   "execution_count": 26,
   "metadata": {},
   "outputs": [
    {
     "data": {
      "text/plain": [
       "{'1111 Ока',\n",
       " '2',\n",
       " '2101',\n",
       " '2102',\n",
       " '2103',\n",
       " '2104',\n",
       " '2105',\n",
       " '2106',\n",
       " '2107',\n",
       " '2108',\n",
       " '2109',\n",
       " '21099',\n",
       " '2110',\n",
       " '2111',\n",
       " '2112',\n",
       " '2113 Samara',\n",
       " '2114 Samara',\n",
       " '2115 Samara',\n",
       " '2123',\n",
       " '3',\n",
       " '323',\n",
       " '4x4 (Нива)',\n",
       " '6',\n",
       " '626',\n",
       " 'Antara',\n",
       " 'Ascona',\n",
       " 'Astra',\n",
       " 'Astra GTC',\n",
       " 'CX-5',\n",
       " 'CX-7',\n",
       " 'Corsa',\n",
       " 'Demio',\n",
       " 'Fabia',\n",
       " 'Familia',\n",
       " 'Felicia',\n",
       " 'Frontera',\n",
       " 'Granta',\n",
       " 'Insignia',\n",
       " 'Kadett',\n",
       " 'Kalina',\n",
       " 'Largus',\n",
       " 'MPV',\n",
       " 'Meriva',\n",
       " 'Mokka',\n",
       " 'Octavia',\n",
       " 'Omega',\n",
       " 'Priora',\n",
       " 'Rapid',\n",
       " 'Roomster',\n",
       " 'Superb',\n",
       " 'Tribute',\n",
       " 'Vectra',\n",
       " 'Yeti',\n",
       " 'Zafira',\n",
       " 'Другая'}"
      ]
     },
     "execution_count": 26,
     "metadata": {},
     "output_type": "execute_result"
    }
   ],
   "source": [
    "set(data_train['CarModel'].value_counts(normalize=True).reset_index()[:55][\"CarModel\"].values)"
   ]
  },
  {
   "cell_type": "code",
   "execution_count": 6,
   "metadata": {},
   "outputs": [
    {
     "data": {
      "text/plain": [
       "YearManufactured\n",
       "2008    0.075761\n",
       "2007    0.073238\n",
       "2006    0.061660\n",
       "2004    0.061247\n",
       "2005    0.058893\n",
       "          ...   \n",
       "1964    0.000006\n",
       "1966    0.000006\n",
       "1963    0.000003\n",
       "1967    0.000003\n",
       "1962    0.000003\n",
       "Name: proportion, Length: 62, dtype: float64"
      ]
     },
     "execution_count": 6,
     "metadata": {},
     "output_type": "execute_result"
    }
   ],
   "source": [
    "data_train['YearManufactured'].value_counts(normalize=True)"
   ]
  },
  {
   "cell_type": "code",
   "execution_count": 7,
   "metadata": {},
   "outputs": [
    {
     "data": {
      "text/plain": [
       "EngineType\n",
       "Бензин     0.961303\n",
       "Газ        0.018019\n",
       "Дизель     0.011657\n",
       "Гибрид     0.008381\n",
       "Электро    0.000640\n",
       "Name: proportion, dtype: float64"
      ]
     },
     "execution_count": 7,
     "metadata": {},
     "output_type": "execute_result"
    }
   ],
   "source": [
    "data_train['EngineType'].value_counts(normalize=True)"
   ]
  },
  {
   "cell_type": "code",
   "execution_count": 8,
   "metadata": {},
   "outputs": [
    {
     "data": {
      "text/plain": [
       "EngineVolume\n",
       "1.6     0.441038\n",
       "1.5     0.309061\n",
       "1.7     0.045937\n",
       "1.4     0.040292\n",
       "1.8     0.040289\n",
       "1.3     0.030085\n",
       "2.0     0.025683\n",
       "1.2     0.015465\n",
       "0.8     0.008896\n",
       "0.6     0.006330\n",
       "0.7     0.005128\n",
       "2.3     0.004777\n",
       "2.5     0.004612\n",
       "1.0     0.003251\n",
       "2.2     0.002722\n",
       "6.0+    0.002439\n",
       "1.1     0.002303\n",
       "1.9     0.001774\n",
       "2.4     0.001754\n",
       "3.0     0.001311\n",
       "0.9     0.001213\n",
       "3.2     0.000723\n",
       "5.5     0.000437\n",
       "6.0     0.000295\n",
       "4.0     0.000275\n",
       "5.0     0.000272\n",
       "2.1     0.000272\n",
       "2.6     0.000269\n",
       "2.8     0.000266\n",
       "3.7     0.000266\n",
       "3.5     0.000192\n",
       "5.7     0.000186\n",
       "2.7     0.000180\n",
       "5.1     0.000154\n",
       "5.2     0.000151\n",
       "3.1     0.000142\n",
       "5.4     0.000118\n",
       "5.9     0.000115\n",
       "5.6     0.000103\n",
       "4.2     0.000100\n",
       "2.9     0.000097\n",
       "3.3     0.000097\n",
       "5.8     0.000089\n",
       "5.3     0.000089\n",
       "4.4     0.000089\n",
       "4.5     0.000083\n",
       "4.6     0.000080\n",
       "3.6     0.000074\n",
       "4.9     0.000074\n",
       "4.3     0.000071\n",
       "3.4     0.000062\n",
       "3.9     0.000047\n",
       "4.7     0.000047\n",
       "4.1     0.000044\n",
       "4.8     0.000041\n",
       "3.8     0.000041\n",
       "Name: proportion, dtype: float64"
      ]
     },
     "execution_count": 8,
     "metadata": {},
     "output_type": "execute_result"
    }
   ],
   "source": [
    "data_train['EngineVolume'].value_counts(normalize=True)"
   ]
  },
  {
   "cell_type": "code",
   "execution_count": 9,
   "metadata": {},
   "outputs": [
    {
     "data": {
      "text/plain": [
       "Color\n",
       "Серебряный    0.171069\n",
       "Белый         0.152729\n",
       "Чёрный        0.128638\n",
       "Зелёный       0.114407\n",
       "Серый         0.112324\n",
       "Синий         0.108603\n",
       "Красный       0.086752\n",
       "Бежевый       0.033801\n",
       "Фиолетовый    0.024740\n",
       "Голубой       0.018692\n",
       "Коричневый    0.018326\n",
       "Золотой       0.010855\n",
       "Пурпурный     0.008536\n",
       "Жёлтый        0.005677\n",
       "Оранжевый     0.003517\n",
       "Розовый       0.001334\n",
       "Name: proportion, dtype: float64"
      ]
     },
     "execution_count": 9,
     "metadata": {},
     "output_type": "execute_result"
    }
   ],
   "source": [
    "data_train['Color'].value_counts(normalize=True)"
   ]
  },
  {
   "cell_type": "code",
   "execution_count": 10,
   "metadata": {},
   "outputs": [
    {
     "data": {
      "text/plain": [
       "VIN\n",
       "18    120964\n",
       "19     84781\n",
       "17     81984\n",
       "16     26106\n",
       "20     21996\n",
       "15      3090\n",
       "Name: count, dtype: int64"
      ]
     },
     "execution_count": 10,
     "metadata": {},
     "output_type": "execute_result"
    }
   ],
   "source": [
    "data_train[\"VIN\"].apply(len).value_counts()"
   ]
  },
  {
   "cell_type": "code",
   "execution_count": null,
   "metadata": {},
   "outputs": [],
   "source": []
  }
 ],
 "metadata": {
  "kernelspec": {
   "display_name": "Python 3",
   "language": "python",
   "name": "python3"
  },
  "language_info": {
   "codemirror_mode": {
    "name": "ipython",
    "version": 3
   },
   "file_extension": ".py",
   "mimetype": "text/x-python",
   "name": "python",
   "nbconvert_exporter": "python",
   "pygments_lexer": "ipython3",
   "version": "3.10.1"
  }
 },
 "nbformat": 4,
 "nbformat_minor": 2
}
